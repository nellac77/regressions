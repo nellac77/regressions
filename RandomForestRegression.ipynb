{
 "cells": [
  {
   "cell_type": "markdown",
   "metadata": {},
   "source": [
    "# Random Forest Regression\n",
    "\n",
    "The random forest is a non-linear regression method of *ensemble* learning, which a learning paradigm where we consider multiple different learning algorithms, or mulitples of the same algorithm, and use them together. The idea here is that the whole is much greater than the parts: the algorithms will be more powerful as an ensemble. The basic steps are:\n",
    "\n",
    "1) We will pick *k* number of random points from the training data set\n",
    "\n",
    "2) Build a decision tree associated with the *k* data points\n",
    "\n",
    "3) Choose the number, *N*, of trees that you would like to build\n",
    "\n",
    "4) Run the *N* decision tree algorithms, each with *k* data points from the training set\n",
    "\n",
    "5) For a new observation, have each of your tress make a prediction for *y*, and the average of their predicted *y* values is your predicted *y* value\n",
    "\n",
    "Not too shabby, right? Let's put this into action."
   ]
  },
  {
   "cell_type": "markdown",
   "metadata": {},
   "source": [
    "## The Data and The Understanding\n",
    "\n",
    "We will again use the salary data to see if that potential new hire was telling the truth about making \\$160k at their last job."
   ]
  },
  {
   "cell_type": "code",
   "execution_count": 1,
   "metadata": {},
   "outputs": [],
   "source": [
    "# bring them in\n",
    "import numpy as np\n",
    "import pandas as pd\n",
    "import matplotlib.pyplot as plt"
   ]
  },
  {
   "cell_type": "code",
   "execution_count": 2,
   "metadata": {},
   "outputs": [],
   "source": [
    "# bring in the data\n",
    "df = pd.read_csv('data/Position_Salaries.csv')\n",
    "\n",
    "# split the data into features and response\n",
    "X = df.iloc[:,1:2].values\n",
    "y = df.iloc[:,-1].values"
   ]
  },
  {
   "cell_type": "code",
   "execution_count": 3,
   "metadata": {},
   "outputs": [
    {
     "data": {
      "text/plain": [
       "RandomForestRegressor(bootstrap=True, criterion='mse', max_depth=None,\n",
       "           max_features='auto', max_leaf_nodes=None,\n",
       "           min_impurity_decrease=0.0, min_impurity_split=None,\n",
       "           min_samples_leaf=1, min_samples_split=2,\n",
       "           min_weight_fraction_leaf=0.0, n_estimators=10, n_jobs=1,\n",
       "           oob_score=False, random_state=0, verbose=0, warm_start=False)"
      ]
     },
     "execution_count": 3,
     "metadata": {},
     "output_type": "execute_result"
    }
   ],
   "source": [
    "# fit the random forest regression\n",
    "from sklearn.ensemble import RandomForestRegressor\n",
    "reg = RandomForestRegressor(n_estimators=10, random_state=0)\n",
    "reg.fit(X,y)"
   ]
  },
  {
   "cell_type": "markdown",
   "metadata": {},
   "source": [
    "With the forest fit we can get to business. Let's take a look at what we got. We expect, being that this is not a continuous model, to see a similar step patter in the visualization."
   ]
  },
  {
   "cell_type": "code",
   "execution_count": 4,
   "metadata": {},
   "outputs": [
    {
     "data": {
      "image/png": "[encoded data removed]",
      "text/plain": [
       "<Figure size 432x288 with 1 Axes>"
      ]
     },
     "metadata": {},
     "output_type": "display_data"
    }
   ],
   "source": [
    "# plot the random forest regression model\n",
    "X_grid = np.arange(min(X), max(X), 0.01)\n",
    "X_grid = X_grid.reshape((len(X_grid), 1))\n",
    "_ = plt.scatter(X, y, color='orange')\n",
    "_ = plt.plot(X_grid, reg.predict(X_grid), color='blue')\n",
    "_ = plt.title('Bluff? (Decision Tree Regression)')\n",
    "_ = plt.xlabel('Position Level')\n",
    "_ = plt.ylabel('Salary')"
   ]
  },
  {
   "cell_type": "markdown",
   "metadata": {},
   "source": [
    "Not only do we see the steps, we see that there are more steps than with the decision tree. This is because the range of levels is now being split into more intervals due to the random forest calculating multiple averages from its decision trees' predictions within each interval. We will note here that if we decide to do this with more decision trees in the random forest this does not imply that we would see more steps. Increasing the number of trees, rather, means we will pbtain more averages for the predictions and the averages will converge to the same average value, as we would expect from entropy.\n",
    "\n",
    "Now let's see about our prediction. Since we have more steps, we might see a more accurate prediction."
   ]
  },
  {
   "cell_type": "code",
   "execution_count": 5,
   "metadata": {},
   "outputs": [
    {
     "name": "stdout",
     "output_type": "stream",
     "text": [
      "The Random Forest, with 10 trees, predicts the old salary was $ 167000.0\n"
     ]
    }
   ],
   "source": [
    "# predit the new result for the 6.5 salary level at the old company\n",
    "y_pred = reg.predict(6.5)\n",
    "\n",
    "# what's it say?\n",
    "print('The Random Forest, with 10 trees, predicts the old salary was $', np.round(float(y_pred)))"
   ]
  },
  {
   "cell_type": "markdown",
   "metadata": {},
   "source": [
    "Well, we did better than with one tree, but keep in mind that we're the hippies here: we get to plant as many trees as we want! This was with 10. Maybe this forest goes to 11...\n",
    "\n",
    "Maybe we could tree- I mean, try more trees than that!"
   ]
  },
  {
   "cell_type": "code",
   "execution_count": 6,
   "metadata": {},
   "outputs": [
    {
     "data": {
      "text/plain": [
       "RandomForestRegressor(bootstrap=True, criterion='mse', max_depth=None,\n",
       "           max_features='auto', max_leaf_nodes=None,\n",
       "           min_impurity_decrease=0.0, min_impurity_split=None,\n",
       "           min_samples_leaf=1, min_samples_split=2,\n",
       "           min_weight_fraction_leaf=0.0, n_estimators=100, n_jobs=1,\n",
       "           oob_score=False, random_state=0, verbose=0, warm_start=False)"
      ]
     },
     "execution_count": 6,
     "metadata": {},
     "output_type": "execute_result"
    }
   ],
   "source": [
    "# fit the random forest regression with 100 trees\n",
    "from sklearn.ensemble import RandomForestRegressor\n",
    "reg = RandomForestRegressor(n_estimators=100, random_state=0)\n",
    "reg.fit(X,y)"
   ]
  },
  {
   "cell_type": "code",
   "execution_count": 7,
   "metadata": {},
   "outputs": [
    {
     "name": "stdout",
     "output_type": "stream",
     "text": [
      "The Random Forest, with 100 trees, predicts the old salary was $ 158300.0\n"
     ]
    }
   ],
   "source": [
    "# predit the new result for the 6.5 salary level at the old company\n",
    "y_pred = reg.predict(6.5)\n",
    "\n",
    "# what's it say?\n",
    "print('The Random Forest, with 100 trees, predicts the old salary was $', np.round(float(y_pred)))"
   ]
  },
  {
   "cell_type": "markdown",
   "metadata": {},
   "source": [
    "Even better. Let's kick it up a bit more. Just for giggles."
   ]
  },
  {
   "cell_type": "code",
   "execution_count": 8,
   "metadata": {},
   "outputs": [
    {
     "data": {
      "text/plain": [
       "RandomForestRegressor(bootstrap=True, criterion='mse', max_depth=None,\n",
       "           max_features='auto', max_leaf_nodes=None,\n",
       "           min_impurity_decrease=0.0, min_impurity_split=None,\n",
       "           min_samples_leaf=1, min_samples_split=2,\n",
       "           min_weight_fraction_leaf=0.0, n_estimators=350, n_jobs=1,\n",
       "           oob_score=False, random_state=0, verbose=0, warm_start=False)"
      ]
     },
     "execution_count": 8,
     "metadata": {},
     "output_type": "execute_result"
    }
   ],
   "source": [
    "# fit the random forest regression with 350 trees\n",
    "from sklearn.ensemble import RandomForestRegressor\n",
    "reg = RandomForestRegressor(n_estimators=350, random_state=0)\n",
    "reg.fit(X,y)"
   ]
  },
  {
   "cell_type": "code",
   "execution_count": 9,
   "metadata": {},
   "outputs": [
    {
     "name": "stdout",
     "output_type": "stream",
     "text": [
      "The Random Forest, with 350 trees, predicts the old salary was $ 160114.0\n"
     ]
    }
   ],
   "source": [
    "# predit the new result for the 6.5 salary level at the old company\n",
    "y_pred = reg.predict(6.5)\n",
    "\n",
    "# what's it say?\n",
    "print('The Random Forest, with 350 trees, predicts the old salary was $', np.round(float(y_pred)))"
   ]
  },
  {
   "cell_type": "markdown",
   "metadata": {},
   "source": [
    "Okay, so it still looks like the candidate was telling the truth. interesting."
   ]
  }
 ],
 "metadata": {
  "kernelspec": {
   "display_name": "Python 3",
   "language": "python",
   "name": "python3"
  },
  "language_info": {
   "codemirror_mode": {
    "name": "ipython",
    "version": 3
   },
   "file_extension": ".py",
   "mimetype": "text/x-python",
   "name": "python",
   "nbconvert_exporter": "python",
   "pygments_lexer": "ipython3",
   "version": "3.5.5"
  }
 },
 "nbformat": 4,
 "nbformat_minor": 2
}
