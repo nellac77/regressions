{
 "cells": [
  {
   "cell_type": "markdown",
   "metadata": {},
   "source": [
    "# Regression Trees\n",
    "\n",
    "## *You hugged your tree today?*"
   ]
  },
  {
   "cell_type": "markdown",
   "metadata": {},
   "source": [
    "Have you heard the term *CART*? Doesn't matter. CART is an acronym for *clasification and regression trees* and is the subject of this exercise. CART encapsulates both *classification* and *regression* trees. Duh, right. For this exercise we'll use the regression half of the term and you can peruse this repositories list for that of the *classification* ilk. Now, let's get to it.\n",
    "\n",
    "## The Basics\n",
    "\n",
    "We will consider a probelm with two independent variables and a single dependent variable. Imagine a scatter chart with--"
   ]
  },
  {
   "cell_type": "code",
   "execution_count": 1,
   "metadata": {},
   "outputs": [],
   "source": [
    "import numpy as np\n",
    "import matplotlib.pyplot as plt\n",
    "\n",
    "xs = np.random.random(32)\n",
    "ys = np.random.random(32)\n",
    "_ = plt.scatter(xs, ys, color='red')"
   ]
  },
  {
   "cell_type": "markdown",
   "metadata": {},
   "source": [
    "Oh, there we go. So what the regression tree will do will is it will cosider the *information entropy*, which I will not utter here. Based on this the algorithm will create a split in the data and ask if the split increases the information that we have about our data points. As in, adding value to the manner inwhich we are trying to group our data points, finding optimal splits in our data. There.\n",
    "\n",
    "The split may look like this:"
   ]
  },
  {
   "cell_type": "code",
   "execution_count": 2,
   "metadata": {},
   "outputs": [
    {
     "data": {
      "image/png": "[encoded data removed]",
      "text/plain": [
       "<Figure size 432x288 with 1 Axes>"
      ]
     },
     "metadata": {},
     "output_type": "display_data"
    }
   ],
   "source": [
    "_ = plt.scatter(xs, ys, color='red')\n",
    "_ = plt.vlines(0.37, 0, 1, colors='blue')\n",
    "_ = plt.text(0.37, 1, ' split 1')"
   ]
  },
  {
   "cell_type": "markdown",
   "metadata": {},
   "source": [
    "After this split, it attempts to make another split, that could look like:"
   ]
  },
  {
   "cell_type": "code",
   "execution_count": 3,
   "metadata": {},
   "outputs": [
    {
     "data": {
      "image/png": "[encoded data removed]",
      "text/plain": [
       "<Figure size 432x288 with 1 Axes>"
      ]
     },
     "metadata": {},
     "output_type": "display_data"
    }
   ],
   "source": [
    "_ = plt.scatter(xs, ys, color='red')\n",
    "# split 1\n",
    "_ = plt.vlines(0.37, 0, 1, colors='blue')\n",
    "_ = plt.text(0.37, 1, ' split 1')\n",
    "# split 2\n",
    "_ = plt.hlines(0.6, 0, 0.37, colors='blue')\n",
    "_ = plt.text(0, 0.62, ' split 2')"
   ]
  },
  {
   "cell_type": "markdown",
   "metadata": {},
   "source": [
    "And then a few more splits until some threshold is reached and the algorithm stops and it looks like this, maybe:"
   ]
  },
  {
   "cell_type": "code",
   "execution_count": 4,
   "metadata": {},
   "outputs": [
    {
     "data": {
      "image/png": "[encoded data removed]",
      "text/plain": [
       "<Figure size 432x288 with 1 Axes>"
      ]
     },
     "metadata": {},
     "output_type": "display_data"
    }
   ],
   "source": [
    "_ = plt.scatter(xs, ys, color='red')\n",
    "# split 1\n",
    "_ = plt.vlines(0.37, 0, 1, colors='blue')\n",
    "_ = plt.text(0.37, 1, ' split 1')\n",
    "# split 2\n",
    "_ = plt.hlines(0.6, 0, 0.37, colors='blue')\n",
    "_ = plt.text(0, 0.62, ' split 2')\n",
    "# split 3\n",
    "_ = plt.hlines(0.42, 0.37, 1, colors='blue')\n",
    "_ = plt.text(0.9, 0.45, ' split 3')\n",
    "# split 4\n",
    "_ = plt.vlines(0.63, 0, 0.42, colors='blue')\n",
    "_ = plt.text(0.63, 0.1, ' split 4')"
   ]
  },
  {
   "cell_type": "markdown",
   "metadata": {},
   "source": [
    "The decisions to make splits are made based on some criteria. Now what do we do next? What good does this do? What do we put in those boxes (leaves)? Well, we have in the plot two dimensions, and these are our independent features, for sake of example. In third dimension, we will consider our *dependent* variable. The real question we face is *how will we predict the value of an unknown value for the dependent variable that gets added to our dataset?* \n",
    "\n",
    "The algorithm will take the new information and decide which leaf the predicted variable will like in based on the the independent variables information we feed the model, and the average of the values (the training dependent variables corresponding to each leaf) within each terminal leaf. If the data we feed the model turns up that the average is in the lower left terminal leaf, based on the data for the independent features, the predicted result for the dependent variable will be whatever the average value for that leaf is.\n",
    "\n",
    "Let's apply this."
   ]
  },
  {
   "cell_type": "markdown",
   "metadata": {},
   "source": [
    "## The Data And The Business Case\n",
    "\n",
    "We revisit the problem where we are about to extend an offer to a candidate for our company. The person has told us that their salray was \\$160k at their last company and they want at least that for this position. We are tasked with determining whether or not that is a bold bluff. Their old company sent us over some data, since they could not release the ex-employee's actual salary. This data has an expected salary assigned to various levels in the company. *Did the candidate really make \\$160k in their old position?*\n",
    "\n",
    "We shall see. Oh, we shall see..."
   ]
  },
  {
   "cell_type": "code",
   "execution_count": 5,
   "metadata": {},
   "outputs": [],
   "source": [
    "# give me what I need\n",
    "import numpy as np\n",
    "import pandas as pd\n",
    "import matplotlib.pyplot as plt"
   ]
  },
  {
   "cell_type": "code",
   "execution_count": 6,
   "metadata": {},
   "outputs": [],
   "source": [
    "# import the data\n",
    "df = pd.read_csv('data/Position_Salaries.csv')\n",
    "\n",
    "# split this data into features and response\n",
    "X = df.iloc[:,1:2].values\n",
    "y = df.iloc[:,-1].values"
   ]
  },
  {
   "cell_type": "code",
   "execution_count": 7,
   "metadata": {},
   "outputs": [
    {
     "data": {
      "text/plain": [
       "DecisionTreeRegressor(criterion='mse', max_depth=None, max_features=None,\n",
       "           max_leaf_nodes=None, min_impurity_decrease=0.0,\n",
       "           min_impurity_split=None, min_samples_leaf=1,\n",
       "           min_samples_split=2, min_weight_fraction_leaf=0.0,\n",
       "           presort=False, random_state=0, splitter='best')"
      ]
     },
     "execution_count": 7,
     "metadata": {},
     "output_type": "execute_result"
    }
   ],
   "source": [
    "# fit the linear regression\n",
    "from sklearn.tree import DecisionTreeRegressor\n",
    "reg = DecisionTreeRegressor(random_state=0)\n",
    "reg.fit(X,y)"
   ]
  },
  {
   "cell_type": "markdown",
   "metadata": {},
   "source": [
    "Okay, with the model created and fit, let predict whether or not that \\$160k should be taken on good advice."
   ]
  },
  {
   "cell_type": "code",
   "execution_count": 8,
   "metadata": {},
   "outputs": [
    {
     "name": "stdout",
     "output_type": "stream",
     "text": [
      "Predicted salary: $ 150000.0\n"
     ]
    }
   ],
   "source": [
    "# predict the new result\n",
    "# recall from a previous notebook that we determined his old level was 6.5 at previous company\n",
    "y_pred = reg.predict(6.5)\n",
    "print('Predicted salary: $', np.round(float(y_pred), 2))"
   ]
  },
  {
   "cell_type": "code",
   "execution_count": 9,
   "metadata": {},
   "outputs": [
    {
     "data": {
      "image/png": "[encoded data removed]",
      "text/plain": [
       "<Figure size 432x288 with 1 Axes>"
      ]
     },
     "metadata": {},
     "output_type": "display_data"
    }
   ],
   "source": [
    "# plot the decision tree regression model\n",
    "_ = plt.scatter(X, y, color='orange')\n",
    "_ = plt.plot(X, reg.predict(X), color='blue')\n",
    "_ = plt.title('Bluff? (Decision Tree Regression)')\n",
    "_ = plt.xlabel('Position Level')\n",
    "_ = plt.ylabel('Salary')"
   ]
  },
  {
   "cell_type": "raw",
   "metadata": {},
   "source": [
    "Er! Wha--? Wait! Uh oh! Yeah, this is a red flag. It is taking the averageof each interval, if you recall from above. Since it is not considering an infinite amount of interval (hence the smoothness), it had no intervals to plot! Previous models we looked at have been continuous. This model ain't continuous! So what do we need to do?\n",
    "\n",
    "Let's have a look the way we visualize it."
   ]
  },
  {
   "cell_type": "code",
   "execution_count": 10,
   "metadata": {},
   "outputs": [
    {
     "data": {
      "image/png": "[encoded data removed]",
      "text/plain": [
       "<Figure size 432x288 with 1 Axes>"
      ]
     },
     "metadata": {},
     "output_type": "display_data"
    }
   ],
   "source": [
    "# plot the REAL decision tree regression model\n",
    "X_grid = np.arange(min(X), max(X), 0.01)\n",
    "X_grid = X_grid.reshape((len(X_grid), 1))\n",
    "_ = plt.scatter(X, y, color='orange')\n",
    "_ = plt.plot(X_grid, reg.predict(X_grid), color='blue')\n",
    "_ = plt.title('Bluff? (Decision Tree Regression)')\n",
    "_ = plt.xlabel('Position Level')\n",
    "_ = plt.ylabel('Salary')"
   ]
  },
  {
   "cell_type": "markdown",
   "metadata": {},
   "source": [
    "Boom. Yeah.\n",
    "\n",
    "So the model predicts a salary of \\$150k, not \\$160k. Well, the model we created works well in higher demensions, or more features. For our problem, this may not be the best model to choose, as the terminal leaf our prediction was assigned does not have a continuous \"curve\" to trace, it just gets lumped into this bucket. Hrm."
   ]
  }
 ],
 "metadata": {
  "kernelspec": {
   "display_name": "Python 3",
   "language": "python",
   "name": "python3"
  },
  "language_info": {
   "codemirror_mode": {
    "name": "ipython",
    "version": 3
   },
   "file_extension": ".py",
   "mimetype": "text/x-python",
   "name": "python",
   "nbconvert_exporter": "python",
   "pygments_lexer": "ipython3",
   "version": "3.5.5"
  }
 },
 "nbformat": 4,
 "nbformat_minor": 2
}
