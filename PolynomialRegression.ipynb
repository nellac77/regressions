{
 "cells": [
  {
   "cell_type": "markdown",
   "metadata": {},
   "source": [
    "# Polynomial Linear Regression\n",
    "\n",
    "In keeping with the idea of the linear regression, we still have a response variable that has some dependency on a predictor variable. The exception is with the Polynomial Regression, as the name implies, is with the relationship between the response variable and the predictors is that rather than having  just the $b_{1}x_{1}$ term, we have a polynomial (different powers of $x_{1}$:\n",
    "\n",
    "$\n",
    "y=b_{0}+b_{1}x_{1}+b_{2}x_{1}^{2}+\\ldots+b_{n}x_{1}^{n}\n",
    "$\n",
    "\n",
    "An imminent question regarding the flavor of regression this falls under is \"how is this a *linear* regression model if the dependency is of polynomial order?\" A fine question indeed. Linear regression models are not referred to as \"linear\" based on their order of dependent variables; rather, they are refering to the *coefficients*, $b$. Yes, $y$ is a function of $x$, but the question is \"can y be expressed as a *linear combination of the coefficients*? This makes as these are the real unknowns in machine learning (think about it, we know the $x$'s: they're in our data sets!). Once we know the coefficients, we can then plug in the $x$'s and predict the response, $y$."
   ]
  },
  {
   "cell_type": "markdown",
   "metadata": {},
   "source": [
    "## The Business Understanding and The Data\n",
    "\n",
    "Let's play pretend. We are a human resource team and we want to hire a new employee. We have interviewed and are about to make an offer. It's now time to negotiate their salary. We know, from interviewing, that the candidate has 20 years of expeirence and left their last company earning $160k (looks like they want at least that...). Being  hobbiest gumshoes (we're still playing pretend) we decide to see if their story checks out. We call up their former employer and they send over a data set that has three columns:\n",
    "\n",
    "+ Position: the positions of employees at their company\n",
    "+ Level: what level in the corporate hierarchy the person with that position has\n",
    "+ Salary: how much cheese they make\n",
    "\n",
    "Let's see what we can make of thier gift."
   ]
  },
  {
   "cell_type": "code",
   "execution_count": 1,
   "metadata": {},
   "outputs": [],
   "source": [
    "# import the libraries\n",
    "import numpy as np\n",
    "import pandas as pd\n",
    "import matplotlib.pyplot as plt"
   ]
  },
  {
   "cell_type": "code",
   "execution_count": 2,
   "metadata": {},
   "outputs": [
    {
     "name": "stdout",
     "output_type": "stream",
     "text": [
      "            Position  Level   Salary\n",
      "0   Business Analyst      1    45000\n",
      "1  Junior Consultant      2    50000\n",
      "2  Senior Consultant      3    60000\n",
      "3            Manager      4    80000\n",
      "4    Country Manager      5   110000\n",
      "5     Region Manager      6   150000\n",
      "6            Partner      7   200000\n",
      "7     Senior Partner      8   300000\n",
      "8            C-level      9   500000\n",
      "9                CEO     10  1000000\n"
     ]
    }
   ],
   "source": [
    "# import the data set\n",
    "df = pd.read_csv('data/Position_Salaries.csv')\n",
    "\n",
    "# inspect the data\n",
    "print(df)"
   ]
  },
  {
   "cell_type": "code",
   "execution_count": 3,
   "metadata": {},
   "outputs": [
    {
     "data": {
      "image/png": "[encoded data removed]",
      "text/plain": [
       "<Figure size 432x288 with 1 Axes>"
      ]
     },
     "metadata": {},
     "output_type": "display_data"
    }
   ],
   "source": [
    "# visually investigating any relationship between the Salary and Level\n",
    "_ = plt.plot(df.Level, df.Salary, marker='o', linestyle='none', c='orange')\n",
    "_ = plt.xlabel('Salary (USD)')\n",
    "_ = plt.ylabel('Level')"
   ]
  },
  {
   "cell_type": "markdown",
   "metadata": {},
   "source": [
    "After seeing the data we can tell there is no linear relationship between the Level and their Salary fields. We can, however, see that there is *some* relationship there. We'll come back to that. That person at the last company did also say that the candidate we are considering did hold the position of \"Region Manager\" for a couple of years and it usually takes four years to become a \"Partner.\" So, looking at the data, that means this person was kind of Level 6.5.\n",
    "\n",
    "Armed with this information, we're all antsy in our pantsy because we know that we can build a regression model that can predict whether or not the $160k salary the candidate told us was a bluff! So, let's see how good their poker face is.\n",
    "\n",
    "We will predict if this claim is TRUE or FALSE (a bluff) by building a polynomial regression model to predict salaries (Salary is our response), using the Position and Level as features. Honestly, we'll only really be using the Level field as our feature, since it is basically an encoding of the Position field."
   ]
  },
  {
   "cell_type": "markdown",
   "metadata": {},
   "source": [
    "## Prepare The Data"
   ]
  },
  {
   "cell_type": "code",
   "execution_count": 4,
   "metadata": {},
   "outputs": [],
   "source": [
    "# separate the data into response and predictor (ensure X is a matrix, not a vector)\n",
    "X = df.iloc[:,1:2].values\n",
    "y = df.iloc[:,-1].values"
   ]
  },
  {
   "cell_type": "markdown",
   "metadata": {},
   "source": [
    "At this point in the game we would usually want to split the data set into a training set and a test set. In this case, however, we only have 10 data points. This is not a whole lot of data tot rain the model, so it does not make a lot of sense to split the data. We also want the accuracy to be spot on and not miss the target. So as much information for the model as possible is required.\n",
    "\n",
    "So we'll move right into feature scaling-- Wait, no, we won't. The polynomial regression consists of superimposing polynomial terms. Check the equation above. This means we can just use the same library as we would need for the linear regressions models. Let's just get down to business in building the model.\n",
    "\n",
    "For comparison, we are going to build a linear regression model along with the polynomial regression model. If for nothing else, just to *see* how a rigid model stacks up to a more flexible model. We could go into more depth with the comparison, discussing the bias-variance trade-off, but that is beyond the scope of what we're doing here."
   ]
  },
  {
   "cell_type": "code",
   "execution_count": 5,
   "metadata": {},
   "outputs": [
    {
     "data": {
      "text/plain": [
       "LinearRegression(copy_X=True, fit_intercept=True, n_jobs=1, normalize=False)"
      ]
     },
     "execution_count": 5,
     "metadata": {},
     "output_type": "execute_result"
    }
   ],
   "source": [
    "# fit the linear regression\n",
    "from sklearn.linear_model import LinearRegression\n",
    "lin_reg = LinearRegression()\n",
    "lin_reg.fit(X,y)"
   ]
  },
  {
   "cell_type": "code",
   "execution_count": 6,
   "metadata": {},
   "outputs": [
    {
     "data": {
      "text/plain": [
       "PolynomialFeatures(degree=2, include_bias=True, interaction_only=False)"
      ]
     },
     "execution_count": 6,
     "metadata": {},
     "output_type": "execute_result"
    }
   ],
   "source": [
    "# fit the polynimial regression using PolynomialFeatures class from preprocessing sublibrary\n",
    "from sklearn.preprocessing import PolynomialFeatures\n",
    "\n",
    "# instantiate taking the independent variable to a power 1, 2, .., n (whatever degree we want)\n",
    "poly_reg = PolynomialFeatures(degree=2)\n",
    "\n",
    "# fit and transform our independent variable\n",
    "X_poly = poly_reg.fit_transform(X)\n",
    "poly_reg.fit(X_poly, y)"
   ]
  },
  {
   "cell_type": "code",
   "execution_count": 7,
   "metadata": {},
   "outputs": [
    {
     "name": "stdout",
     "output_type": "stream",
     "text": [
      "[[  1.   1.   1.]\n",
      " [  1.   2.   4.]\n",
      " [  1.   3.   9.]\n",
      " [  1.   4.  16.]\n",
      " [  1.   5.  25.]\n",
      " [  1.   6.  36.]\n",
      " [  1.   7.  49.]\n",
      " [  1.   8.  64.]\n",
      " [  1.   9.  81.]\n",
      " [  1.  10. 100.]]\n"
     ]
    }
   ],
   "source": [
    "# inspect the new variable\n",
    "print(X_poly)"
   ]
  },
  {
   "cell_type": "markdown",
   "metadata": {},
   "source": [
    "Yep, the values and the values squared."
   ]
  },
  {
   "cell_type": "code",
   "execution_count": 8,
   "metadata": {},
   "outputs": [
    {
     "data": {
      "text/plain": [
       "LinearRegression(copy_X=True, fit_intercept=True, n_jobs=1, normalize=False)"
      ]
     },
     "execution_count": 8,
     "metadata": {},
     "output_type": "execute_result"
    }
   ],
   "source": [
    "# include the fit into a multiple linear regression model\n",
    "lin_reg2 = LinearRegression()\n",
    "lin_reg2.fit(X_poly, y)"
   ]
  },
  {
   "cell_type": "markdown",
   "metadata": {},
   "source": [
    "The models have been made, so let's...\n",
    "\n",
    "## Assess The Models\n",
    "\n",
    "Was the person telling the truth, or bluffing?"
   ]
  },
  {
   "cell_type": "code",
   "execution_count": 9,
   "metadata": {},
   "outputs": [
    {
     "data": {
      "image/png": "[encoded data removed]",
      "text/plain": [
       "<Figure size 432x288 with 1 Axes>"
      ]
     },
     "metadata": {},
     "output_type": "display_data"
    }
   ],
   "source": [
    "# plot the linear regression model\n",
    "_ = plt.scatter(X, y, color='orange')\n",
    "_ = plt.plot(X, lin_reg.predict(X), color='blue')\n",
    "_ = plt.title('Bluff? (Linear Regression)')\n",
    "_ = plt.xlabel('Position Level')\n",
    "_ = plt.ylabel('Salary')"
   ]
  },
  {
   "cell_type": "markdown",
   "metadata": {},
   "source": [
    "Yeah, it doesn't quite capture it, does it? It even looks like at Level 6.5, the candidate should probably have been making about $350k! Let's see our plynomial model predictions."
   ]
  },
  {
   "cell_type": "code",
   "execution_count": 10,
   "metadata": {},
   "outputs": [
    {
     "data": {
      "image/png": "[encoded data removed]",
      "text/plain": [
       "<Figure size 432x288 with 1 Axes>"
      ]
     },
     "metadata": {},
     "output_type": "display_data"
    }
   ],
   "source": [
    "# plot the polynomial model\n",
    "_ = plt.scatter(X,y, color='orange')\n",
    "\n",
    "# don't use X_poly as it's predefined for an existing matrix of features, X\n",
    "# We want this to be more general, to take whatever we give it, so we use poly_reg.fit_transform(X)\n",
    "_ = plt.plot(X, lin_reg2.predict(poly_reg.fit_transform(X)), color='blue')\n",
    "_ = plt.title('Bluff? (Polynomial Regression)')\n",
    "_ = plt.xlabel('Position Level')\n",
    "_ = plt.ylabel('Salary')"
   ]
  },
  {
   "cell_type": "markdown",
   "metadata": {},
   "source": [
    "Hmm. Still doesn't seem to capture it all, though it is a better than last time. Let's add a degree and see what happens."
   ]
  },
  {
   "cell_type": "code",
   "execution_count": 11,
   "metadata": {},
   "outputs": [
    {
     "data": {
      "text/plain": [
       "LinearRegression(copy_X=True, fit_intercept=True, n_jobs=1, normalize=False)"
      ]
     },
     "execution_count": 11,
     "metadata": {},
     "output_type": "execute_result"
    }
   ],
   "source": [
    "# instantiate with degree = 3 this time\n",
    "poly_reg = PolynomialFeatures(degree=3)\n",
    "\n",
    "# fit and transform our independent variable\n",
    "X_poly = poly_reg.fit_transform(X)\n",
    "poly_reg.fit(X_poly, y)\n",
    "\n",
    "# include the fit into a multiple linear regression model\n",
    "lin_reg2 = LinearRegression()\n",
    "lin_reg2.fit(X_poly, y)"
   ]
  },
  {
   "cell_type": "code",
   "execution_count": 12,
   "metadata": {},
   "outputs": [
    {
     "data": {
      "image/png": "[encoded data removed]",
      "text/plain": [
       "<Figure size 432x288 with 1 Axes>"
      ]
     },
     "metadata": {},
     "output_type": "display_data"
    }
   ],
   "source": [
    "# plot the polynomial model, degree 3\n",
    "_ = plt.scatter(X,y, color='orange')\n",
    "\n",
    "# don't use X_poly as it's predefined for an existing matrix of features, X\n",
    "# We want this to be more general, to take whatever we give it, so we use poly_reg.fit_transform(X)\n",
    "_ = plt.plot(X, lin_reg2.predict(poly_reg.fit_transform(X)), color='blue')\n",
    "_ = plt.title('Bluff? (Polynomial Regression, degree 3)')\n",
    "_ = plt.xlabel('Position Level')\n",
    "_ = plt.ylabel('Salary')"
   ]
  },
  {
   "cell_type": "markdown",
   "metadata": {},
   "source": [
    "Better, but let's try degree 4."
   ]
  },
  {
   "cell_type": "code",
   "execution_count": 13,
   "metadata": {},
   "outputs": [
    {
     "data": {
      "text/plain": [
       "LinearRegression(copy_X=True, fit_intercept=True, n_jobs=1, normalize=False)"
      ]
     },
     "execution_count": 13,
     "metadata": {},
     "output_type": "execute_result"
    }
   ],
   "source": [
    "# instantiate with degree = 4 this time\n",
    "poly_reg = PolynomialFeatures(degree=4)\n",
    "\n",
    "# fit and transform our independent variable\n",
    "X_poly = poly_reg.fit_transform(X)\n",
    "poly_reg.fit(X_poly, y)\n",
    "\n",
    "# include the fit into a multiple linear regression model\n",
    "lin_reg2 = LinearRegression()\n",
    "lin_reg2.fit(X_poly, y)"
   ]
  },
  {
   "cell_type": "code",
   "execution_count": 14,
   "metadata": {},
   "outputs": [
    {
     "data": {
      "image/png": "[encoded data removed]",
      "text/plain": [
       "<Figure size 432x288 with 1 Axes>"
      ]
     },
     "metadata": {},
     "output_type": "display_data"
    }
   ],
   "source": [
    "# plot the polynomial model, degree 4\n",
    "_ = plt.scatter(X,y, color='orange')\n",
    "\n",
    "# don't use X_poly as it's predefined for an existing matrix of features, X\n",
    "# We want this to be more general, to take whatever we give it, so we use poly_reg.fit_transform(X)\n",
    "_ = plt.plot(X, lin_reg2.predict(poly_reg.fit_transform(X)), color='blue')\n",
    "_ = plt.title('Bluff? (Polynomial Regression, degree 4)')\n",
    "_ = plt.xlabel('Position Level')\n",
    "_ = plt.ylabel('Salary')\n",
    "_ = plt.hlines(y=160000, xmin=0, xmax=8)"
   ]
  },
  {
   "cell_type": "markdown",
   "metadata": {},
   "source": [
    "This actually looks really good. If we look at that horizontal line at $160k, it looks like, for that person's level, They may not have been bluffing. Let's spruce up the plot though to be double sure."
   ]
  },
  {
   "cell_type": "code",
   "execution_count": 15,
   "metadata": {},
   "outputs": [],
   "source": [
    "# Create an x-grid to get more precise with the Levels\n",
    "X_grid = np.arange(min(X), max(X), 0.1)\n",
    "X_grid = X_grid.reshape((len(X_grid), 1))"
   ]
  },
  {
   "cell_type": "code",
   "execution_count": 16,
   "metadata": {},
   "outputs": [
    {
     "data": {
      "image/png": "[encoded data removed]",
      "text/plain": [
       "<Figure size 432x288 with 1 Axes>"
      ]
     },
     "metadata": {},
     "output_type": "display_data"
    }
   ],
   "source": [
    "# plot the polynomial model, degree 4\n",
    "_ = plt.scatter(X,y, color='orange')\n",
    "\n",
    "# don't use X_poly as it's predefined for an existing matrix of features, X\n",
    "# We want this to be more general, to take whatever we give it, so we use poly_reg.fit_transform(X)\n",
    "_ = plt.plot(X_grid, lin_reg2.predict(poly_reg.fit_transform(X_grid)), color='blue')\n",
    "_ = plt.title('Bluff? (Polynomial Regression, degree 4)')\n",
    "_ = plt.xlabel('Position Level')\n",
    "_ = plt.ylabel('Salary')\n",
    "_ = plt.hlines(y=160000, xmin=0, xmax=8)"
   ]
  },
  {
   "cell_type": "markdown",
   "metadata": {},
   "source": [
    "That's better, but let's make one final prediction and see where this person lands. In the previous predictions, we made predictions for *all* the salary data we received. But, we are really only concerned with *one* value: that of our candidate's. So let's use what we've built to predict *this person's* salary."
   ]
  },
  {
   "cell_type": "code",
   "execution_count": 17,
   "metadata": {},
   "outputs": [
    {
     "name": "stdout",
     "output_type": "stream",
     "text": [
      "$ 330378.79  salary for Level 6.5.\n"
     ]
    }
   ],
   "source": [
    "# predict new response with a linear regression model\n",
    "print('$', np.round(float(lin_reg.predict(6.5)),2), ' salary for Level 6.5.')"
   ]
  },
  {
   "cell_type": "code",
   "execution_count": 18,
   "metadata": {},
   "outputs": [
    {
     "name": "stdout",
     "output_type": "stream",
     "text": [
      "$ 158862.45  salary for Level 6.5.\n"
     ]
    }
   ],
   "source": [
    "# predict new response with 4th degree polynomial regression model\n",
    "print('$', np.round(float(lin_reg2.predict(poly_reg.fit_transform(6.5))),2), ' salary for Level 6.5.')"
   ]
  },
  {
   "cell_type": "markdown",
   "metadata": {},
   "source": [
    "### *Truth!*\n",
    "\n",
    "The candidate was not bluffing. Let's make an offer!"
   ]
  }
 ],
 "metadata": {
  "kernelspec": {
   "display_name": "Python 3",
   "language": "python",
   "name": "python3"
  },
  "language_info": {
   "codemirror_mode": {
    "name": "ipython",
    "version": 3
   },
   "file_extension": ".py",
   "mimetype": "text/x-python",
   "name": "python",
   "nbconvert_exporter": "python",
   "pygments_lexer": "ipython3",
   "version": "3.5.5"
  }
 },
 "nbformat": 4,
 "nbformat_minor": 2
}
