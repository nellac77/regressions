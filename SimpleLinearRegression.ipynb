{
 "cells": [
  {
   "cell_type": "markdown",
   "metadata": {},
   "source": [
    "# Simple Linear Regression\n",
    "\n",
    "The simple linear regression is a model that is basically the good ol' equation of a line:\n",
    "\n",
    "$\n",
    "y=b_{0}+b_{1}x_{1}.\n",
    "$\n",
    "\n",
    "Essentially, we are after seeing how the dependent variable, $y$ depends on some independent variable, $x_{1}$. This dependency may rely on some connection described by the proportionality coefficient (the slope), $b_{1}$, while some constant, $b_{0}$ describes the the dependent variable's value when the independent variable's value is zero.\n",
    "\n",
    "The line that this equation describes, in this context, is the trend line that best fits a data set. So the obvious question is *how does the simple linear regression find that line*? This is what we will go over. This machine learning method takes a data set that contains a set of response values, $y_{n}$, and a set of feature values, $x_{n}$, and for each observation of $y_{n}$, it developes a corresponding modeled value, $\\hat{y_{n}}$, for each observed $x_{n}$ value. The method then gets to the best fitting line by taking the difference between each $y_{n}$ and the $\\hat{y_{n}}$ value and sums them and then square that result. It will then repeat this process many, many times, recording these sums of squares, and then it will seek to minimize this result, thus finding the minimum sum of squares, and this minimum is the *best fitting line*, described by:\n",
    "\n",
    "$\n",
    "\\min{\\left(\\sum(y_{n}-\\hat{y_{n}})^{2}\\right)}.\n",
    "$\n",
    "\n",
    "Now, let's do this."
   ]
  },
  {
   "cell_type": "markdown",
   "metadata": {},
   "source": [
    "## Preprocessing Data\n",
    "\n",
    "Data Preprocessing is required for all machine learning projects as it ensures the data is ready for ingestion into the model and the model will not be garbage. Yes, some boring things must be done first. Respect the process.\n",
    "\n",
    "We will use a with salary data set for this project, where we want to wish to create a best fit line such that we can predict a person's salary based on how many year's of experience they have. So let's bring the data in and get it ready!"
   ]
  },
  {
   "cell_type": "code",
   "execution_count": 1,
   "metadata": {},
   "outputs": [],
   "source": [
    "# import the libraries\n",
    "import numpy as np\n",
    "import pandas as pd\n",
    "import matplotlib.pyplot as plt\n",
    "%matplotlib inline"
   ]
  },
  {
   "cell_type": "code",
   "execution_count": 2,
   "metadata": {},
   "outputs": [],
   "source": [
    "# read the data in as a dataframe\n",
    "df = pd.read_csv('data/Salary_Data.csv')"
   ]
  },
  {
   "cell_type": "code",
   "execution_count": 3,
   "metadata": {},
   "outputs": [
    {
     "name": "stdout",
     "output_type": "stream",
     "text": [
      "(30, 2) \n",
      "    YearsExperience   Salary\n",
      "0              1.1  39343.0\n",
      "1              1.3  46205.0\n",
      "2              1.5  37731.0\n",
      "3              2.0  43525.0\n",
      "4              2.2  39891.0\n"
     ]
    }
   ],
   "source": [
    "# look at the data\n",
    "print(df.shape, '\\n', df.head())"
   ]
  },
  {
   "cell_type": "code",
   "execution_count": 4,
   "metadata": {},
   "outputs": [],
   "source": [
    "# split the data into feature and response matrices\n",
    "X = df.iloc[:, :-1].values\n",
    "y = df.iloc[:,-1].values"
   ]
  },
  {
   "cell_type": "code",
   "execution_count": 5,
   "metadata": {
    "scrolled": true
   },
   "outputs": [
    {
     "name": "stdout",
     "output_type": "stream",
     "text": [
      "Feature\n",
      " [[ 1.1]\n",
      " [ 1.3]\n",
      " [ 1.5]\n",
      " [ 2. ]\n",
      " [ 2.2]\n",
      " [ 2.9]\n",
      " [ 3. ]\n",
      " [ 3.2]\n",
      " [ 3.2]\n",
      " [ 3.7]\n",
      " [ 3.9]\n",
      " [ 4. ]\n",
      " [ 4. ]\n",
      " [ 4.1]\n",
      " [ 4.5]\n",
      " [ 4.9]\n",
      " [ 5.1]\n",
      " [ 5.3]\n",
      " [ 5.9]\n",
      " [ 6. ]\n",
      " [ 6.8]\n",
      " [ 7.1]\n",
      " [ 7.9]\n",
      " [ 8.2]\n",
      " [ 8.7]\n",
      " [ 9. ]\n",
      " [ 9.5]\n",
      " [ 9.6]\n",
      " [10.3]\n",
      " [10.5]] \n",
      " Response\n",
      " [ 39343.  46205.  37731.  43525.  39891.  56642.  60150.  54445.  64445.\n",
      "  57189.  63218.  55794.  56957.  57081.  61111.  67938.  66029.  83088.\n",
      "  81363.  93940.  91738.  98273. 101302. 113812. 109431. 105582. 116969.\n",
      " 112635. 122391. 121872.]\n"
     ]
    }
   ],
   "source": [
    "# inspecting the feature and response matrices\n",
    "print('Feature\\n', X, '\\n', 'Response\\n', y)"
   ]
  },
  {
   "cell_type": "code",
   "execution_count": 6,
   "metadata": {},
   "outputs": [],
   "source": [
    "# splitting into trainign and test sets\n",
    "from sklearn.model_selection import train_test_split\n",
    "X_train, X_test, y_train, y_test = train_test_split(X, y, test_size= 1/3, random_state = 0)"
   ]
  },
  {
   "cell_type": "code",
   "execution_count": null,
   "metadata": {},
   "outputs": [],
   "source": []
  },
  {
   "cell_type": "code",
   "execution_count": 7,
   "metadata": {},
   "outputs": [
    {
     "name": "stdout",
     "output_type": "stream",
     "text": [
      "X\n",
      " [[ 2.9]\n",
      " [ 5.1]\n",
      " [ 3.2]\n",
      " [ 4.5]\n",
      " [ 8.2]\n",
      " [ 6.8]\n",
      " [ 1.3]\n",
      " [10.5]\n",
      " [ 3. ]\n",
      " [ 2.2]\n",
      " [ 5.9]\n",
      " [ 6. ]\n",
      " [ 3.7]\n",
      " [ 3.2]\n",
      " [ 9. ]\n",
      " [ 2. ]\n",
      " [ 1.1]\n",
      " [ 7.1]\n",
      " [ 4.9]\n",
      " [ 4. ]] \n",
      " y\n",
      " [ 56642.  66029.  64445.  61111. 113812.  91738.  46205. 121872.  60150.\n",
      "  39891.  81363.  93940.  57189.  54445. 105582.  43525.  39343.  98273.\n",
      "  67938.  56957.]\n"
     ]
    }
   ],
   "source": [
    "# inspect the training set\n",
    "print('X\\n', X_train, '\\n', 'y\\n', y_train)"
   ]
  },
  {
   "cell_type": "code",
   "execution_count": 8,
   "metadata": {},
   "outputs": [
    {
     "name": "stdout",
     "output_type": "stream",
     "text": [
      "X\n",
      " [[ 1.5]\n",
      " [10.3]\n",
      " [ 4.1]\n",
      " [ 3.9]\n",
      " [ 9.5]\n",
      " [ 8.7]\n",
      " [ 9.6]\n",
      " [ 4. ]\n",
      " [ 5.3]\n",
      " [ 7.9]] \n",
      " y\n",
      " [ 37731. 122391.  57081.  63218. 116969. 109431. 112635.  55794.  83088.\n",
      " 101302.]\n"
     ]
    }
   ],
   "source": [
    "# inspect the test set\n",
    "print('X\\n', X_test, '\\n', 'y\\n', y_test)"
   ]
  },
  {
   "cell_type": "markdown",
   "metadata": {},
   "source": [
    "We will use the training set to train our simple linear regression model, and then test its performance on the test set. We are now ready to begin building our model!"
   ]
  },
  {
   "cell_type": "markdown",
   "metadata": {},
   "source": [
    "## Training the Model\n",
    "\n",
    "The simple linear regression model we wish to build could, of course, be implemented from scratch, but this may not be the most efficient thing to do in practice. Fortunately, the Scikit Learn package has you covered. After importing the linear regression library we can then train our model."
   ]
  },
  {
   "cell_type": "code",
   "execution_count": 9,
   "metadata": {},
   "outputs": [
    {
     "data": {
      "text/plain": [
       "LinearRegression(copy_X=True, fit_intercept=True, n_jobs=1, normalize=False)"
      ]
     },
     "execution_count": 9,
     "metadata": {},
     "output_type": "execute_result"
    }
   ],
   "source": [
    "# importing linear regression from sklearn\n",
    "from sklearn.linear_model import LinearRegression\n",
    "\n",
    "# create object of the LinearRegression class\n",
    "regressor = LinearRegression()\n",
    "\n",
    "# fit the regressor to the training set\n",
    "regressor.fit(X_train, y_train)"
   ]
  },
  {
   "cell_type": "markdown",
   "metadata": {},
   "source": [
    "Our model has now learned from the training set and come up with what it thinks is the best fit line describing the data. It is now ready to predict the outcomes of the test set."
   ]
  },
  {
   "cell_type": "markdown",
   "metadata": {},
   "source": [
    "## Testing the Model\n",
    "\n",
    "With our model constructed, we will now see if it can accurately predict salaries from new observations in our test set. to do this we will need to create a vector of predicted responses, *y_pred*. This vector will contain the model's *predicted* values for Salary, given the Age values in the test set. We will then compare *y_pred* to the actual Salary values in the test set."
   ]
  },
  {
   "cell_type": "code",
   "execution_count": 10,
   "metadata": {},
   "outputs": [],
   "source": [
    "# predicting the test set\n",
    "y_pred = regressor.predict(X_test)"
   ]
  },
  {
   "cell_type": "markdown",
   "metadata": {},
   "source": [
    "Now that we have fed the test set's observations for Experience, our model has predicted what the corresponding salaries are. We can look at the product before we actually analyze the models performance by comparing them to the actual values."
   ]
  },
  {
   "cell_type": "code",
   "execution_count": 11,
   "metadata": {},
   "outputs": [
    {
     "name": "stdout",
     "output_type": "stream",
     "text": [
      "               0\n",
      "0   40835.105909\n",
      "1  123079.399408\n",
      "2   65134.556261\n",
      "3   63265.367772\n",
      "4  115602.645454\n",
      "5  108125.891499\n",
      "6  116537.239698\n",
      "7   64199.962017\n",
      "8   76349.687193\n",
      "9  100649.137545\n"
     ]
    }
   ],
   "source": [
    "# inspect the predicted values vector\n",
    "print(pd.DataFrame(y_pred))"
   ]
  },
  {
   "cell_type": "markdown",
   "metadata": {},
   "source": [
    "## Evaluating Model Performance\n",
    "\n",
    "Instead of performing a quantitative assessment of the model's performance, we will perform a qualitative evaluation by employing the ITE (Intra-occular Trauma Examination), also known as plotting the training data set with our model's regression line to *see* the best fit line."
   ]
  },
  {
   "cell_type": "code",
   "execution_count": 12,
   "metadata": {},
   "outputs": [
    {
     "data": {
      "text/plain": [
       "Text(0,0.5,'Salary [$]')"
      ]
     },
     "execution_count": 12,
     "metadata": {},
     "output_type": "execute_result"
    },
    {
     "data": {
      "image/png": "[encoded data removed]",
      "text/plain": [
       "<Figure size 432x288 with 1 Axes>"
      ]
     },
     "metadata": {},
     "output_type": "display_data"
    }
   ],
   "source": [
    "# visulaizing the training set\n",
    "plt.scatter(X_train, y_train, c='orange')\n",
    "plt.plot(X_train, regressor.predict(X_train), c='blue')\n",
    "plt.title('Salary vs. Experience (Training)')\n",
    "plt.xlabel('Experience [Years]')\n",
    "plt.ylabel('Salary [$]')"
   ]
  },
  {
   "cell_type": "markdown",
   "metadata": {},
   "source": [
    "We see that the real values are the orange dots, while the modeled values lie on the blue line. We can see that there is, indeed, a linear dependency we can see in the real observations, so the linear regresssion was a good choice. Now, let's see how our model handled new observations in the test set."
   ]
  },
  {
   "cell_type": "code",
   "execution_count": 13,
   "metadata": {},
   "outputs": [
    {
     "data": {
      "text/plain": [
       "Text(0,0.5,'Salary [$]')"
      ]
     },
     "execution_count": 13,
     "metadata": {},
     "output_type": "execute_result"
    },
    {
     "data": {
      "image/png": "[encoded data removed]",
      "text/plain": [
       "<Figure size 432x288 with 1 Axes>"
      ]
     },
     "metadata": {},
     "output_type": "display_data"
    }
   ],
   "source": [
    "# visualize the test set\n",
    "plt.scatter(X_test, y_test, c='orange')\n",
    "plt.plot(X_train, regressor.predict(X_train), c='blue')\n",
    "plt.title('Salary vs. Experience (Test)')\n",
    "plt.xlabel('Experience [Years]')\n",
    "plt.ylabel('Salary [$]')"
   ]
  },
  {
   "cell_type": "markdown",
   "metadata": {},
   "source": [
    "Well, it *looks* good. There are, of course, some values that do not fall on the fitted line, due to there not actually being a 100% correlation between the years of Experience and the Salary.\n",
    "\n",
    "As this example demonstrates,the simple linear regression is a quick and easy machine learning method."
   ]
  }
 ],
 "metadata": {
  "kernelspec": {
   "display_name": "Python 3",
   "language": "python",
   "name": "python3"
  },
  "language_info": {
   "codemirror_mode": {
    "name": "ipython",
    "version": 3
   },
   "file_extension": ".py",
   "mimetype": "text/x-python",
   "name": "python",
   "nbconvert_exporter": "python",
   "pygments_lexer": "ipython3",
   "version": "3.5.5"
  }
 },
 "nbformat": 4,
 "nbformat_minor": 2
}
